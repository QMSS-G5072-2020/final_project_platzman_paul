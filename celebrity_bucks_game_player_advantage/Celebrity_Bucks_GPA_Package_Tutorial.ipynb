{
 "cells": [
  {
   "cell_type": "markdown",
   "metadata": {},
   "source": [
    "# Celebrity Bucks Game Player Advantage: Package Tutorial"
   ]
  },
  {
   "cell_type": "markdown",
   "metadata": {},
   "source": [
    "CelebrityBucks is a game where celebrities are bought and sold like stocks, and players aim to maximize their earnings. Celebrities are assigned numerical dollar values based on their mentions in the news and entertainment media publications. The more they are mentioned, they higher their value. Like with stocks, players pay for celebrities based on their current value and hope that their values increase over time.\n",
    "\n",
    "CelebrityBucks makes an API available that provides very little information to its users. Specifically, it returns a list of all celebrities it is tracking and their values at the time of the API query. Virtually no additional information is available, and really nothing that would be useful for game players who are trying to make buy/sell decisions, such as trends in celebrities' values over time, projections of future values, or demographic attributes that may be useful towards predicting future values.\n",
    "\n",
    "My proposed project aims to not only wrap their API into a Python package, but to supplement the available data for each celebrity with information from other sources. Specifically, I would aim to supplement each celebrity's current value with information about their trend and CelebrityBucks's recommendation whether or not to buy (which is not available through their API) by scraping CelebrityBucks's celebrity pages and acquire other attributes about each celebrity from another online source that maintains a database of biographical information. I would also run my own analytics to try to project future values and include that information in the output.\n",
    "\n",
    "The Python wrapper would create functions that should be useful to game players. One function would enable them to look up all the collected info for any celebrity they name, and another would enable them to look up the top valued celebrities by demographic attribute, such as gender, nationality, and age group."
   ]
  },
  {
   "cell_type": "markdown",
   "metadata": {},
   "source": [
    "## Data Sources:"
   ]
  },
  {
   "cell_type": "markdown",
   "metadata": {},
   "source": [
    "1. Documentation for [CelebrityBucks's API](https://celebritybucks.com/developers); <br>\n",
    "2. An example of a [celebrity's personal page](https://celebritybucks.com/celebrity/9623/Meghan-Markle) on the CelebrityBucks website; <br>\n",
    "3. An example of a [celebrity's personal page](https://www.astro-seek.com/birth-chart/meghan-markle-horoscope) from Astro-seek.com <br>"
   ]
  },
  {
   "cell_type": "code",
   "execution_count": 1,
   "metadata": {},
   "outputs": [],
   "source": [
    "from celebrity_bucks_game_player_advantage import create_celebrity_data_set"
   ]
  },
  {
   "cell_type": "markdown",
   "metadata": {},
   "source": [
    "`create_celebrity_data_set.py` can either be executed as a self-sufficient script or it can be imported as a module, where its colllection of defined functions will be availble to the user."
   ]
  },
  {
   "cell_type": "code",
   "execution_count": null,
   "metadata": {},
   "outputs": [],
   "source": []
  }
 ],
 "metadata": {
  "kernelspec": {
   "display_name": "Python 3",
   "language": "python",
   "name": "python3"
  },
  "language_info": {
   "codemirror_mode": {
    "name": "ipython",
    "version": 3
   },
   "file_extension": ".py",
   "mimetype": "text/x-python",
   "name": "python",
   "nbconvert_exporter": "python",
   "pygments_lexer": "ipython3",
   "version": "3.8.5"
  }
 },
 "nbformat": 4,
 "nbformat_minor": 4
}
