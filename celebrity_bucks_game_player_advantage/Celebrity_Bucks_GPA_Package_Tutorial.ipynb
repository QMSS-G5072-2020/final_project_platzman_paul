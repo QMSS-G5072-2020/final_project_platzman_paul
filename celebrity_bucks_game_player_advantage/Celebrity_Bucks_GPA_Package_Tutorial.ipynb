{
 "cells": [
  {
   "cell_type": "markdown",
   "metadata": {},
   "source": [
    "# Celebrity Bucks Game Player Advantage: Package Overview and Tutorial"
   ]
  },
  {
   "cell_type": "markdown",
   "metadata": {},
   "source": [
    "[CelebrityBucks](https://celebritybucks.com/) is an online game where celebrities are bought and sold like stocks, and players aim to maximize their earnings over time. Celebrities are assigned numerical dollar values based on their recent prevalance within news and entertainment media publications, and the more often they are mentioned, they higher their value becomes. As with stocks, game players pay for celebrities based on their current value and hope that their values increase over time.\n",
    "\n",
    "Although Celebrity Bucks offers an API that provides the current price and ranking of each celebrity in its data set, it offers little else to players that would inform their buy/sell/hold game playing decisions. This package aims to remedy that. Specifically, it provides a data set containing each celebrity available in the Celebrity Bucks game alongside not only the information returned by the API, but additional information about each celebrity that may be useful to forecasting their future value. This includes information about how their current price compares to recent and all-time high prices, demographic attributes, and Celebrity Bucks's recommendation whether or not to buy that celebrity.\n",
    "\n",
    "This package also contains a user-ready Python script that enables users to create a new data set in a single line of code -- useful for collecting the most up to date celebrity information -- or that is importable as a module, where the file's many functions become available to the user. Either option avails Celebrity Bucks game players of a rich source of information useful for performing descriptive analysis, building predictive models, or otherwise informing game playing decisions."
   ]
  },
  {
   "cell_type": "markdown",
   "metadata": {},
   "source": [
    "# Data Sources and Collection:"
   ]
  },
  {
   "cell_type": "markdown",
   "metadata": {},
   "source": [
    "The data set is comprised of data from three sources: the Celebrity Bucks API, individual celebrity pages on the Celebrity Bucks website, and individual celebrity pages on Astro-Seek.com. Examples can be found here:\n",
    "\n",
    "1. Documentation for [CelebrityBucks's API](https://celebritybucks.com/developers), where current celebrity prices and rankings are found; <br>\n",
    "2. An example of a [celebrity's personal page](https://celebritybucks.com/celebrity/9623/Meghan-Markle) on the CelebrityBucks website, where price trend information and buy/sell/hold recommendations are found; <br>\n",
    "3. An example of a [celebrity's personal page](https://www.astro-seek.com/birth-chart/meghan-markle-horoscope) from Astro-seek.com, where demographic attributes are found.\n",
    "\n",
    "This information is collected for each celebrity found in the Celebrity Bucks API return, i.e., all celebrities available to be bought, sold, or held in the game. Several attributes that appear in the data set are taken directly from these sources, such as a celebrity's gender or current Celebrity Bucks price. Other attributes are computed from available information, such as whether the celebrity has an upcoming birthday or the ratio of the celebrity's current price to their past 21-day price average. This tutorial will provide more detailed instructions on how to work with the data set and also how to use the Python code to accumulate more current information."
   ]
  },
  {
   "cell_type": "markdown",
   "metadata": {},
   "source": [
    "# How To Use:"
   ]
  },
  {
   "cell_type": "markdown",
   "metadata": {},
   "source": [
    "Players may choose to use the existing data set available in the `./data` folder or work with the `create_celebrity_data_set.py` Python script to get up-to-the-minute data."
   ]
  },
  {
   "cell_type": "markdown",
   "metadata": {},
   "source": [
    "## Working with the Existing Data Set:"
   ]
  },
  {
   "cell_type": "markdown",
   "metadata": {},
   "source": [
    "Let's start with an overview of the existing data set. First, read the `.csv` file that comes with the package by default, which was created on December 11, 2020: "
   ]
  },
  {
   "cell_type": "code",
   "execution_count": 27,
   "metadata": {},
   "outputs": [],
   "source": [
    "import pandas as pd\n",
    "df = pd.read_csv('./data/celebrity_data_attributes_2020-12-11_19_46_49.csv')"
   ]
  },
  {
   "cell_type": "markdown",
   "metadata": {},
   "source": [
    "Let's take a look at the first few rows of the data set:"
   ]
  },
  {
   "cell_type": "code",
   "execution_count": 28,
   "metadata": {},
   "outputs": [
    {
     "data": {
      "text/html": [
       "<div>\n",
       "<style scoped>\n",
       "    .dataframe tbody tr th:only-of-type {\n",
       "        vertical-align: middle;\n",
       "    }\n",
       "\n",
       "    .dataframe tbody tr th {\n",
       "        vertical-align: top;\n",
       "    }\n",
       "\n",
       "    .dataframe thead th {\n",
       "        text-align: right;\n",
       "    }\n",
       "</style>\n",
       "<table border=\"1\" class=\"dataframe\">\n",
       "  <thead>\n",
       "    <tr style=\"text-align: right;\">\n",
       "      <th></th>\n",
       "      <th>Celebrity</th>\n",
       "      <th>Current Ranking</th>\n",
       "      <th>Current Price</th>\n",
       "      <th>Avg. 21-Day Price</th>\n",
       "      <th>Avg. 21-Day Price/Current Price</th>\n",
       "      <th>All-Time High Price</th>\n",
       "      <th>All-Time High Price/Current Price</th>\n",
       "      <th>Days Since All-Time High Price</th>\n",
       "      <th>Gender</th>\n",
       "      <th>Age</th>\n",
       "      <th>Upcoming Birthday</th>\n",
       "      <th>U.S. Nationality</th>\n",
       "      <th>Living Status</th>\n",
       "      <th>Celebrity Bucks Recommendation</th>\n",
       "      <th>Last Update</th>\n",
       "    </tr>\n",
       "  </thead>\n",
       "  <tbody>\n",
       "    <tr>\n",
       "      <th>0</th>\n",
       "      <td>Taylor Swift</td>\n",
       "      <td>1</td>\n",
       "      <td>929000</td>\n",
       "      <td>126000</td>\n",
       "      <td>0.136</td>\n",
       "      <td>3011000</td>\n",
       "      <td>3.241</td>\n",
       "      <td>1759</td>\n",
       "      <td>Female</td>\n",
       "      <td>30.0</td>\n",
       "      <td>Upcoming birthday</td>\n",
       "      <td>U.S. national</td>\n",
       "      <td>Alive</td>\n",
       "      <td>Buy</td>\n",
       "      <td>29:23.1</td>\n",
       "    </tr>\n",
       "    <tr>\n",
       "      <th>1</th>\n",
       "      <td>Donald Trump</td>\n",
       "      <td>2</td>\n",
       "      <td>334000</td>\n",
       "      <td>225000</td>\n",
       "      <td>0.674</td>\n",
       "      <td>6977000</td>\n",
       "      <td>20.889</td>\n",
       "      <td>1492</td>\n",
       "      <td>Male</td>\n",
       "      <td>74.0</td>\n",
       "      <td>No upcoming birthday</td>\n",
       "      <td>U.S. national</td>\n",
       "      <td>Alive</td>\n",
       "      <td>Sell</td>\n",
       "      <td>29:24.3</td>\n",
       "    </tr>\n",
       "    <tr>\n",
       "      <th>2</th>\n",
       "      <td>Kim Kardashian</td>\n",
       "      <td>3</td>\n",
       "      <td>325000</td>\n",
       "      <td>46000</td>\n",
       "      <td>0.142</td>\n",
       "      <td>2661000</td>\n",
       "      <td>8.188</td>\n",
       "      <td>2392</td>\n",
       "      <td>Female</td>\n",
       "      <td>40.0</td>\n",
       "      <td>No upcoming birthday</td>\n",
       "      <td>U.S. national</td>\n",
       "      <td>Alive</td>\n",
       "      <td>Buy</td>\n",
       "      <td>29:25.6</td>\n",
       "    </tr>\n",
       "  </tbody>\n",
       "</table>\n",
       "</div>"
      ],
      "text/plain": [
       "        Celebrity  Current Ranking  Current Price  Avg. 21-Day Price  \\\n",
       "0    Taylor Swift                1         929000             126000   \n",
       "1    Donald Trump                2         334000             225000   \n",
       "2  Kim Kardashian                3         325000              46000   \n",
       "\n",
       "   Avg. 21-Day Price/Current Price  All-Time High Price  \\\n",
       "0                            0.136              3011000   \n",
       "1                            0.674              6977000   \n",
       "2                            0.142              2661000   \n",
       "\n",
       "   All-Time High Price/Current Price  Days Since All-Time High Price  Gender  \\\n",
       "0                              3.241                            1759  Female   \n",
       "1                             20.889                            1492    Male   \n",
       "2                              8.188                            2392  Female   \n",
       "\n",
       "    Age     Upcoming Birthday U.S. Nationality Living Status  \\\n",
       "0  30.0     Upcoming birthday    U.S. national         Alive   \n",
       "1  74.0  No upcoming birthday    U.S. national         Alive   \n",
       "2  40.0  No upcoming birthday    U.S. national         Alive   \n",
       "\n",
       "  Celebrity Bucks Recommendation Last Update  \n",
       "0                            Buy     29:23.1  \n",
       "1                           Sell     29:24.3  \n",
       "2                            Buy     29:25.6  "
      ]
     },
     "execution_count": 28,
     "metadata": {},
     "output_type": "execute_result"
    }
   ],
   "source": [
    "df.head(3)"
   ]
  },
  {
   "cell_type": "markdown",
   "metadata": {},
   "source": [
    "The first few rows reveal that as of 12/11/20, Taylor Swift was the most highly valued celebrity in the game with a then-current price of \\\\$929,000. They also reveal that her then-current value was considerably greater than her trailing 21-day average, which was only 13.6% as large.\n",
    "\n",
    "Donald Trump was the second most highly valued celebrity in the data set at \\\\$334,000. Although this value was second greatest in the data set, it was less than 1/20th the size of his all-time high value of \\\\$6,977,000, which occurred nearly 1,500 days earlier. \n",
    "\n",
    "Kim Kardashian, the third ranked celebrity in the data set, was identified as a 40 year-old female who did not have a birthday upcoming in the next week, is a U.S. national, and is currently living, all of which may be predictive of her future prevalence in American news and entertainment celebrity publications. In fact, Celebrity Bucks recommended that users buy her stock."
   ]
  },
  {
   "cell_type": "markdown",
   "metadata": {},
   "source": [
    "### Summary Statistics:"
   ]
  },
  {
   "cell_type": "markdown",
   "metadata": {},
   "source": [
    "The data set contains all 717 celebrities available in the Celebrity Bucks game as of the data collection date (December 11, 2020) and 13 attributes associated with each celebrity computed from data collected across the three aforementioned sources. It also contains one column of metadata: the time stamp at which each row of information was collected.\n",
    "\n",
    "The data set is rather complete. Although not all celebrities have data in all three online sources, most do; in fact, more than 90% of celebrities have no missing cell values, and nearly 97% of cell values are non-missing.\n",
    "\n",
    "We have already seen that Taylor Swift had the greatest then-current prices among the 717 celebrities tracked by Celebrity Bucks. But what does the distribution of then-current prices throughout the data set look like?"
   ]
  },
  {
   "cell_type": "code",
   "execution_count": 32,
   "metadata": {},
   "outputs": [
    {
     "data": {
      "image/png": "[encoded data removed]",
      "text/plain": [
       "<Figure size 432x288 with 1 Axes>"
      ]
     },
     "metadata": {
      "needs_background": "light"
     },
     "output_type": "display_data"
    }
   ],
   "source": [
    "import matplotlib.pyplot as plot\n",
    "\n",
    "plot.hist(df['Current Price'], bins = 100)\n",
    "plot.show()"
   ]
  },
  {
   "cell_type": "markdown",
   "metadata": {},
   "source": [
    "The histogram shows that the top values displayed in the previous section of this tutorial were considerable outliers. In fact, the majority of celebrities possessed then-current prices at very low values, indicating they each had only a small presence within media outlet publications."
   ]
  },
  {
   "cell_type": "markdown",
   "metadata": {},
   "source": [
    "Perhaps the distribution of all-time high prices is a bit more egalitarian? It stands to reason that for a celebrity to be a celebrity, they must have, at one point in time, been a focus of media attention. However, the following histogram suggests that celebrity media presence inequality persists over more than just a snapshot in time: most celebrity's highest values never exceeded \\\\$1,000, while only a very few ever exceeded \\\\$3,000 at any point."
   ]
  },
  {
   "cell_type": "code",
   "execution_count": 33,
   "metadata": {},
   "outputs": [
    {
     "data": {
      "image/png": "[encoded data removed]",
      "text/plain": [
       "<Figure size 432x288 with 1 Axes>"
      ]
     },
     "metadata": {
      "needs_background": "light"
     },
     "output_type": "display_data"
    }
   ],
   "source": [
    "plot.hist(df['All-Time High Price'], bins = 100)\n",
    "plot.show()"
   ]
  },
  {
   "cell_type": "markdown",
   "metadata": {},
   "source": [
    "Finally, we may want to observe the distribution of days since each celebrity in the data set achieved their highest value. Was there a certain period of time when celebrities were generally more popular? Is each time point equally likely to observe celebrities at their highest values?"
   ]
  },
  {
   "cell_type": "code",
   "execution_count": 34,
   "metadata": {},
   "outputs": [
    {
     "data": {
      "image/png": "[encoded data removed]",
      "text/plain": [
       "<Figure size 432x288 with 1 Axes>"
      ]
     },
     "metadata": {
      "needs_background": "light"
     },
     "output_type": "display_data"
    }
   ],
   "source": [
    "plot.hist(df['Days Since All-Time High Price'], bins = 100)\n",
    "plot.show()"
   ]
  },
  {
   "cell_type": "markdown",
   "metadata": {},
   "source": [
    "The histogram above shows that the frequency of peak popularity increases the further back in time we go; celebrities, by and large, do not rise to the same levels of popularity in media outlets today as they used to years ago. One interpretation of this trend is that as social media has ascended in its share of media consumption, print outlets' role as a prime hub for celebrity gossip and information has declined. Celebrity Bucks may wish to expand its list of tracked media sources to ensure it remains current."
   ]
  },
  {
   "cell_type": "markdown",
   "metadata": {},
   "source": [
    "### Displaying information for a particular celebrity:"
   ]
  },
  {
   "cell_type": "markdown",
   "metadata": {},
   "source": [
    "After exploring the data set in its totality, users may wish to display the available information for a given celebrity. This is acheived in a single line of code. Simply insert the first and last name of a desired celebrity within single or double quotes in the code below. The input value is case sensitive."
   ]
  },
  {
   "cell_type": "code",
   "execution_count": 36,
   "metadata": {},
   "outputs": [
    {
     "data": {
      "text/html": [
       "<div>\n",
       "<style scoped>\n",
       "    .dataframe tbody tr th:only-of-type {\n",
       "        vertical-align: middle;\n",
       "    }\n",
       "\n",
       "    .dataframe tbody tr th {\n",
       "        vertical-align: top;\n",
       "    }\n",
       "\n",
       "    .dataframe thead th {\n",
       "        text-align: right;\n",
       "    }\n",
       "</style>\n",
       "<table border=\"1\" class=\"dataframe\">\n",
       "  <thead>\n",
       "    <tr style=\"text-align: right;\">\n",
       "      <th></th>\n",
       "      <th>Celebrity</th>\n",
       "      <th>Current Ranking</th>\n",
       "      <th>Current Price</th>\n",
       "      <th>Avg. 21-Day Price</th>\n",
       "      <th>Avg. 21-Day Price/Current Price</th>\n",
       "      <th>All-Time High Price</th>\n",
       "      <th>All-Time High Price/Current Price</th>\n",
       "      <th>Days Since All-Time High Price</th>\n",
       "      <th>Gender</th>\n",
       "      <th>Age</th>\n",
       "      <th>Upcoming Birthday</th>\n",
       "      <th>U.S. Nationality</th>\n",
       "      <th>Living Status</th>\n",
       "      <th>Celebrity Bucks Recommendation</th>\n",
       "      <th>Last Update</th>\n",
       "    </tr>\n",
       "  </thead>\n",
       "  <tbody>\n",
       "    <tr>\n",
       "      <th>69</th>\n",
       "      <td>Kobe Bryant</td>\n",
       "      <td>70</td>\n",
       "      <td>47000</td>\n",
       "      <td>13000</td>\n",
       "      <td>0.277</td>\n",
       "      <td>6020000</td>\n",
       "      <td>128.085</td>\n",
       "      <td>318</td>\n",
       "      <td>Male</td>\n",
       "      <td>41.0</td>\n",
       "      <td>No upcoming birthday</td>\n",
       "      <td>U.S. national</td>\n",
       "      <td>Dead</td>\n",
       "      <td>Hold</td>\n",
       "      <td>31:09.7</td>\n",
       "    </tr>\n",
       "  </tbody>\n",
       "</table>\n",
       "</div>"
      ],
      "text/plain": [
       "      Celebrity  Current Ranking  Current Price  Avg. 21-Day Price  \\\n",
       "69  Kobe Bryant               70          47000              13000   \n",
       "\n",
       "    Avg. 21-Day Price/Current Price  All-Time High Price  \\\n",
       "69                            0.277              6020000   \n",
       "\n",
       "    All-Time High Price/Current Price  Days Since All-Time High Price Gender  \\\n",
       "69                            128.085                             318   Male   \n",
       "\n",
       "     Age     Upcoming Birthday U.S. Nationality Living Status  \\\n",
       "69  41.0  No upcoming birthday    U.S. national          Dead   \n",
       "\n",
       "   Celebrity Bucks Recommendation Last Update  \n",
       "69                           Hold     31:09.7  "
      ]
     },
     "execution_count": 36,
     "metadata": {},
     "output_type": "execute_result"
    }
   ],
   "source": [
    "df[df['Celebrity'] == 'Kobe Bryant']"
   ]
  },
  {
   "cell_type": "markdown",
   "metadata": {},
   "source": [
    "### Displaying information for celebrities by attributes:"
   ]
  },
  {
   "cell_type": "markdown",
   "metadata": {},
   "source": [
    "Users may wish to explore the data set to inform game playing decisions.\n",
    "\n",
    "Suppose you wanted to display all celebrities whom Celebrity Bucks recommends game players buy and sort them by their current price, from least to most expensive:"
   ]
  },
  {
   "cell_type": "code",
   "execution_count": 44,
   "metadata": {},
   "outputs": [
    {
     "data": {
      "text/html": [
       "<div>\n",
       "<style scoped>\n",
       "    .dataframe tbody tr th:only-of-type {\n",
       "        vertical-align: middle;\n",
       "    }\n",
       "\n",
       "    .dataframe tbody tr th {\n",
       "        vertical-align: top;\n",
       "    }\n",
       "\n",
       "    .dataframe thead th {\n",
       "        text-align: right;\n",
       "    }\n",
       "</style>\n",
       "<table border=\"1\" class=\"dataframe\">\n",
       "  <thead>\n",
       "    <tr style=\"text-align: right;\">\n",
       "      <th></th>\n",
       "      <th>Celebrity</th>\n",
       "      <th>Current Ranking</th>\n",
       "      <th>Current Price</th>\n",
       "      <th>Avg. 21-Day Price</th>\n",
       "      <th>Avg. 21-Day Price/Current Price</th>\n",
       "      <th>All-Time High Price</th>\n",
       "      <th>All-Time High Price/Current Price</th>\n",
       "      <th>Days Since All-Time High Price</th>\n",
       "      <th>Gender</th>\n",
       "      <th>Age</th>\n",
       "      <th>Upcoming Birthday</th>\n",
       "      <th>U.S. Nationality</th>\n",
       "      <th>Living Status</th>\n",
       "      <th>Celebrity Bucks Recommendation</th>\n",
       "      <th>Last Update</th>\n",
       "    </tr>\n",
       "  </thead>\n",
       "  <tbody>\n",
       "    <tr>\n",
       "      <th>110</th>\n",
       "      <td>Zac Efron</td>\n",
       "      <td>111</td>\n",
       "      <td>34000</td>\n",
       "      <td>4000</td>\n",
       "      <td>0.118</td>\n",
       "      <td>809000</td>\n",
       "      <td>23.794</td>\n",
       "      <td>2432</td>\n",
       "      <td>Male</td>\n",
       "      <td>33.0</td>\n",
       "      <td>No upcoming birthday</td>\n",
       "      <td>U.S. national</td>\n",
       "      <td>Alive</td>\n",
       "      <td>Buy</td>\n",
       "      <td>32:04.8</td>\n",
       "    </tr>\n",
       "    <tr>\n",
       "      <th>108</th>\n",
       "      <td>Jon Favreau</td>\n",
       "      <td>109</td>\n",
       "      <td>35000</td>\n",
       "      <td>4000</td>\n",
       "      <td>0.114</td>\n",
       "      <td>308000</td>\n",
       "      <td>8.800</td>\n",
       "      <td>1534</td>\n",
       "      <td>Male</td>\n",
       "      <td>54.0</td>\n",
       "      <td>No upcoming birthday</td>\n",
       "      <td>U.S. national</td>\n",
       "      <td>Alive</td>\n",
       "      <td>Buy</td>\n",
       "      <td>32:01.4</td>\n",
       "    </tr>\n",
       "    <tr>\n",
       "      <th>106</th>\n",
       "      <td>Demi Lovato</td>\n",
       "      <td>107</td>\n",
       "      <td>35000</td>\n",
       "      <td>10000</td>\n",
       "      <td>0.286</td>\n",
       "      <td>2623000</td>\n",
       "      <td>74.943</td>\n",
       "      <td>869</td>\n",
       "      <td>Female</td>\n",
       "      <td>28.0</td>\n",
       "      <td>No upcoming birthday</td>\n",
       "      <td>U.S. national</td>\n",
       "      <td>Alive</td>\n",
       "      <td>Buy</td>\n",
       "      <td>31:58.7</td>\n",
       "    </tr>\n",
       "    <tr>\n",
       "      <th>99</th>\n",
       "      <td>Blac Chyna</td>\n",
       "      <td>100</td>\n",
       "      <td>38000</td>\n",
       "      <td>4000</td>\n",
       "      <td>0.105</td>\n",
       "      <td>1700000</td>\n",
       "      <td>44.737</td>\n",
       "      <td>1253</td>\n",
       "      <td>Female</td>\n",
       "      <td>32.0</td>\n",
       "      <td>No upcoming birthday</td>\n",
       "      <td>U.S. national</td>\n",
       "      <td>Alive</td>\n",
       "      <td>Buy</td>\n",
       "      <td>31:48.4</td>\n",
       "    </tr>\n",
       "    <tr>\n",
       "      <th>98</th>\n",
       "      <td>Ana de Armas</td>\n",
       "      <td>99</td>\n",
       "      <td>38000</td>\n",
       "      <td>9000</td>\n",
       "      <td>0.237</td>\n",
       "      <td>141000</td>\n",
       "      <td>3.711</td>\n",
       "      <td>267</td>\n",
       "      <td>Female</td>\n",
       "      <td>32.0</td>\n",
       "      <td>No upcoming birthday</td>\n",
       "      <td>Foreign to U.S.</td>\n",
       "      <td>Alive</td>\n",
       "      <td>Buy</td>\n",
       "      <td>31:47.2</td>\n",
       "    </tr>\n",
       "    <tr>\n",
       "      <th>...</th>\n",
       "      <td>...</td>\n",
       "      <td>...</td>\n",
       "      <td>...</td>\n",
       "      <td>...</td>\n",
       "      <td>...</td>\n",
       "      <td>...</td>\n",
       "      <td>...</td>\n",
       "      <td>...</td>\n",
       "      <td>...</td>\n",
       "      <td>...</td>\n",
       "      <td>...</td>\n",
       "      <td>...</td>\n",
       "      <td>...</td>\n",
       "      <td>...</td>\n",
       "      <td>...</td>\n",
       "    </tr>\n",
       "    <tr>\n",
       "      <th>6</th>\n",
       "      <td>Chris Evans</td>\n",
       "      <td>7</td>\n",
       "      <td>211000</td>\n",
       "      <td>17000</td>\n",
       "      <td>0.081</td>\n",
       "      <td>559000</td>\n",
       "      <td>2.649</td>\n",
       "      <td>2057</td>\n",
       "      <td>Male</td>\n",
       "      <td>39.0</td>\n",
       "      <td>No upcoming birthday</td>\n",
       "      <td>U.S. national</td>\n",
       "      <td>Alive</td>\n",
       "      <td>Buy</td>\n",
       "      <td>29:32.0</td>\n",
       "    </tr>\n",
       "    <tr>\n",
       "      <th>5</th>\n",
       "      <td>Shia LaBeouf</td>\n",
       "      <td>6</td>\n",
       "      <td>236000</td>\n",
       "      <td>13000</td>\n",
       "      <td>0.055</td>\n",
       "      <td>1206000</td>\n",
       "      <td>5.110</td>\n",
       "      <td>2358</td>\n",
       "      <td>Male</td>\n",
       "      <td>34.0</td>\n",
       "      <td>No upcoming birthday</td>\n",
       "      <td>U.S. national</td>\n",
       "      <td>Alive</td>\n",
       "      <td>Buy</td>\n",
       "      <td>29:30.7</td>\n",
       "    </tr>\n",
       "    <tr>\n",
       "      <th>3</th>\n",
       "      <td>Ellen DeGeneres</td>\n",
       "      <td>4</td>\n",
       "      <td>245000</td>\n",
       "      <td>22000</td>\n",
       "      <td>0.090</td>\n",
       "      <td>3039000</td>\n",
       "      <td>12.404</td>\n",
       "      <td>2474</td>\n",
       "      <td>Female</td>\n",
       "      <td>62.0</td>\n",
       "      <td>No upcoming birthday</td>\n",
       "      <td>U.S. national</td>\n",
       "      <td>Alive</td>\n",
       "      <td>Buy</td>\n",
       "      <td>29:26.9</td>\n",
       "    </tr>\n",
       "    <tr>\n",
       "      <th>2</th>\n",
       "      <td>Kim Kardashian</td>\n",
       "      <td>3</td>\n",
       "      <td>325000</td>\n",
       "      <td>46000</td>\n",
       "      <td>0.142</td>\n",
       "      <td>2661000</td>\n",
       "      <td>8.188</td>\n",
       "      <td>2392</td>\n",
       "      <td>Female</td>\n",
       "      <td>40.0</td>\n",
       "      <td>No upcoming birthday</td>\n",
       "      <td>U.S. national</td>\n",
       "      <td>Alive</td>\n",
       "      <td>Buy</td>\n",
       "      <td>29:25.6</td>\n",
       "    </tr>\n",
       "    <tr>\n",
       "      <th>0</th>\n",
       "      <td>Taylor Swift</td>\n",
       "      <td>1</td>\n",
       "      <td>929000</td>\n",
       "      <td>126000</td>\n",
       "      <td>0.136</td>\n",
       "      <td>3011000</td>\n",
       "      <td>3.241</td>\n",
       "      <td>1759</td>\n",
       "      <td>Female</td>\n",
       "      <td>30.0</td>\n",
       "      <td>Upcoming birthday</td>\n",
       "      <td>U.S. national</td>\n",
       "      <td>Alive</td>\n",
       "      <td>Buy</td>\n",
       "      <td>29:23.1</td>\n",
       "    </tr>\n",
       "  </tbody>\n",
       "</table>\n",
       "<p>62 rows × 15 columns</p>\n",
       "</div>"
      ],
      "text/plain": [
       "           Celebrity  Current Ranking  Current Price  Avg. 21-Day Price  \\\n",
       "110        Zac Efron              111          34000               4000   \n",
       "108      Jon Favreau              109          35000               4000   \n",
       "106      Demi Lovato              107          35000              10000   \n",
       "99        Blac Chyna              100          38000               4000   \n",
       "98      Ana de Armas               99          38000               9000   \n",
       "..               ...              ...            ...                ...   \n",
       "6        Chris Evans                7         211000              17000   \n",
       "5       Shia LaBeouf                6         236000              13000   \n",
       "3    Ellen DeGeneres                4         245000              22000   \n",
       "2     Kim Kardashian                3         325000              46000   \n",
       "0       Taylor Swift                1         929000             126000   \n",
       "\n",
       "     Avg. 21-Day Price/Current Price  All-Time High Price  \\\n",
       "110                            0.118               809000   \n",
       "108                            0.114               308000   \n",
       "106                            0.286              2623000   \n",
       "99                             0.105              1700000   \n",
       "98                             0.237               141000   \n",
       "..                               ...                  ...   \n",
       "6                              0.081               559000   \n",
       "5                              0.055              1206000   \n",
       "3                              0.090              3039000   \n",
       "2                              0.142              2661000   \n",
       "0                              0.136              3011000   \n",
       "\n",
       "     All-Time High Price/Current Price  Days Since All-Time High Price  \\\n",
       "110                             23.794                            2432   \n",
       "108                              8.800                            1534   \n",
       "106                             74.943                             869   \n",
       "99                              44.737                            1253   \n",
       "98                               3.711                             267   \n",
       "..                                 ...                             ...   \n",
       "6                                2.649                            2057   \n",
       "5                                5.110                            2358   \n",
       "3                               12.404                            2474   \n",
       "2                                8.188                            2392   \n",
       "0                                3.241                            1759   \n",
       "\n",
       "     Gender   Age     Upcoming Birthday U.S. Nationality Living Status  \\\n",
       "110    Male  33.0  No upcoming birthday    U.S. national         Alive   \n",
       "108    Male  54.0  No upcoming birthday    U.S. national         Alive   \n",
       "106  Female  28.0  No upcoming birthday    U.S. national         Alive   \n",
       "99   Female  32.0  No upcoming birthday    U.S. national         Alive   \n",
       "98   Female  32.0  No upcoming birthday  Foreign to U.S.         Alive   \n",
       "..      ...   ...                   ...              ...           ...   \n",
       "6      Male  39.0  No upcoming birthday    U.S. national         Alive   \n",
       "5      Male  34.0  No upcoming birthday    U.S. national         Alive   \n",
       "3    Female  62.0  No upcoming birthday    U.S. national         Alive   \n",
       "2    Female  40.0  No upcoming birthday    U.S. national         Alive   \n",
       "0    Female  30.0     Upcoming birthday    U.S. national         Alive   \n",
       "\n",
       "    Celebrity Bucks Recommendation Last Update  \n",
       "110                            Buy     32:04.8  \n",
       "108                            Buy     32:01.4  \n",
       "106                            Buy     31:58.7  \n",
       "99                             Buy     31:48.4  \n",
       "98                             Buy     31:47.2  \n",
       "..                             ...         ...  \n",
       "6                              Buy     29:32.0  \n",
       "5                              Buy     29:30.7  \n",
       "3                              Buy     29:26.9  \n",
       "2                              Buy     29:25.6  \n",
       "0                              Buy     29:23.1  \n",
       "\n",
       "[62 rows x 15 columns]"
      ]
     },
     "execution_count": 44,
     "metadata": {},
     "output_type": "execute_result"
    }
   ],
   "source": [
    "df[df['Celebrity Bucks Recommendation'] == 'Buy'].sort_values(by='Current Price')"
   ]
  },
  {
   "cell_type": "markdown",
   "metadata": {},
   "source": [
    "Now, suppose you had a hunch that players whose current values were relatively low compared to their all-time high were undervalued and were therefore attractive purchasing prospects. You may wish to sort the data set by the `All-Time High Price/Current Price` column, excluding any deceased celebrities, to identify the most attractive celebrity prospects:"
   ]
  },
  {
   "cell_type": "code",
   "execution_count": 48,
   "metadata": {},
   "outputs": [
    {
     "data": {
      "text/html": [
       "<div>\n",
       "<style scoped>\n",
       "    .dataframe tbody tr th:only-of-type {\n",
       "        vertical-align: middle;\n",
       "    }\n",
       "\n",
       "    .dataframe tbody tr th {\n",
       "        vertical-align: top;\n",
       "    }\n",
       "\n",
       "    .dataframe thead th {\n",
       "        text-align: right;\n",
       "    }\n",
       "</style>\n",
       "<table border=\"1\" class=\"dataframe\">\n",
       "  <thead>\n",
       "    <tr style=\"text-align: right;\">\n",
       "      <th></th>\n",
       "      <th>Celebrity</th>\n",
       "      <th>Current Ranking</th>\n",
       "      <th>Current Price</th>\n",
       "      <th>Avg. 21-Day Price</th>\n",
       "      <th>Avg. 21-Day Price/Current Price</th>\n",
       "      <th>All-Time High Price</th>\n",
       "      <th>All-Time High Price/Current Price</th>\n",
       "      <th>Days Since All-Time High Price</th>\n",
       "      <th>Gender</th>\n",
       "      <th>Age</th>\n",
       "      <th>Upcoming Birthday</th>\n",
       "      <th>U.S. Nationality</th>\n",
       "      <th>Living Status</th>\n",
       "      <th>Celebrity Bucks Recommendation</th>\n",
       "      <th>Last Update</th>\n",
       "    </tr>\n",
       "  </thead>\n",
       "  <tbody>\n",
       "    <tr>\n",
       "      <th>590</th>\n",
       "      <td>Brad Pitt</td>\n",
       "      <td>591</td>\n",
       "      <td>5000</td>\n",
       "      <td>10000</td>\n",
       "      <td>2.000</td>\n",
       "      <td>4213000</td>\n",
       "      <td>842.600</td>\n",
       "      <td>1541</td>\n",
       "      <td>Male</td>\n",
       "      <td>56.0</td>\n",
       "      <td>Upcoming birthday</td>\n",
       "      <td>U.S. national</td>\n",
       "      <td>Alive</td>\n",
       "      <td>Hold</td>\n",
       "      <td>43:47.5</td>\n",
       "    </tr>\n",
       "    <tr>\n",
       "      <th>386</th>\n",
       "      <td>Chris Rock</td>\n",
       "      <td>387</td>\n",
       "      <td>7000</td>\n",
       "      <td>2000</td>\n",
       "      <td>0.286</td>\n",
       "      <td>2820000</td>\n",
       "      <td>402.857</td>\n",
       "      <td>1746</td>\n",
       "      <td>Male</td>\n",
       "      <td>55.0</td>\n",
       "      <td>No upcoming birthday</td>\n",
       "      <td>U.S. national</td>\n",
       "      <td>Alive</td>\n",
       "      <td>Hold</td>\n",
       "      <td>38:50.3</td>\n",
       "    </tr>\n",
       "    <tr>\n",
       "      <th>568</th>\n",
       "      <td>Jared Leto</td>\n",
       "      <td>569</td>\n",
       "      <td>6000</td>\n",
       "      <td>2000</td>\n",
       "      <td>0.333</td>\n",
       "      <td>2275000</td>\n",
       "      <td>379.167</td>\n",
       "      <td>2474</td>\n",
       "      <td>Male</td>\n",
       "      <td>48.0</td>\n",
       "      <td>No upcoming birthday</td>\n",
       "      <td>U.S. national</td>\n",
       "      <td>Alive</td>\n",
       "      <td>Hold</td>\n",
       "      <td>43:16.0</td>\n",
       "    </tr>\n",
       "    <tr>\n",
       "      <th>517</th>\n",
       "      <td>Kevin Spacey</td>\n",
       "      <td>518</td>\n",
       "      <td>6000</td>\n",
       "      <td>1000</td>\n",
       "      <td>0.167</td>\n",
       "      <td>2245000</td>\n",
       "      <td>374.167</td>\n",
       "      <td>1137</td>\n",
       "      <td>Male</td>\n",
       "      <td>61.0</td>\n",
       "      <td>No upcoming birthday</td>\n",
       "      <td>U.S. national</td>\n",
       "      <td>Alive</td>\n",
       "      <td>Hold</td>\n",
       "      <td>41:54.1</td>\n",
       "    </tr>\n",
       "    <tr>\n",
       "      <th>667</th>\n",
       "      <td>Spike Lee</td>\n",
       "      <td>668</td>\n",
       "      <td>4000</td>\n",
       "      <td>3000</td>\n",
       "      <td>0.750</td>\n",
       "      <td>1447000</td>\n",
       "      <td>361.750</td>\n",
       "      <td>654</td>\n",
       "      <td>Male</td>\n",
       "      <td>63.0</td>\n",
       "      <td>No upcoming birthday</td>\n",
       "      <td>U.S. national</td>\n",
       "      <td>Alive</td>\n",
       "      <td>Sell</td>\n",
       "      <td>45:38.4</td>\n",
       "    </tr>\n",
       "    <tr>\n",
       "      <th>653</th>\n",
       "      <td>Steve Harvey</td>\n",
       "      <td>654</td>\n",
       "      <td>4000</td>\n",
       "      <td>1000</td>\n",
       "      <td>0.250</td>\n",
       "      <td>1446000</td>\n",
       "      <td>361.500</td>\n",
       "      <td>1816</td>\n",
       "      <td>Male</td>\n",
       "      <td>63.0</td>\n",
       "      <td>No upcoming birthday</td>\n",
       "      <td>U.S. national</td>\n",
       "      <td>Alive</td>\n",
       "      <td>Hold</td>\n",
       "      <td>45:19.3</td>\n",
       "    </tr>\n",
       "    <tr>\n",
       "      <th>626</th>\n",
       "      <td>R. Kelly</td>\n",
       "      <td>627</td>\n",
       "      <td>5000</td>\n",
       "      <td>3000</td>\n",
       "      <td>0.600</td>\n",
       "      <td>1727000</td>\n",
       "      <td>345.400</td>\n",
       "      <td>645</td>\n",
       "      <td>Male</td>\n",
       "      <td>53.0</td>\n",
       "      <td>No upcoming birthday</td>\n",
       "      <td>U.S. national</td>\n",
       "      <td>Alive</td>\n",
       "      <td>Hold</td>\n",
       "      <td>44:39.6</td>\n",
       "    </tr>\n",
       "    <tr>\n",
       "      <th>580</th>\n",
       "      <td>Mick Jagger</td>\n",
       "      <td>581</td>\n",
       "      <td>5000</td>\n",
       "      <td>1000</td>\n",
       "      <td>0.200</td>\n",
       "      <td>1663000</td>\n",
       "      <td>332.600</td>\n",
       "      <td>2459</td>\n",
       "      <td>Male</td>\n",
       "      <td>77.0</td>\n",
       "      <td>No upcoming birthday</td>\n",
       "      <td>Foreign to U.S.</td>\n",
       "      <td>Alive</td>\n",
       "      <td>Hold</td>\n",
       "      <td>43:33.3</td>\n",
       "    </tr>\n",
       "    <tr>\n",
       "      <th>411</th>\n",
       "      <td>Amy Poehler</td>\n",
       "      <td>412</td>\n",
       "      <td>7000</td>\n",
       "      <td>1000</td>\n",
       "      <td>0.143</td>\n",
       "      <td>2231000</td>\n",
       "      <td>318.714</td>\n",
       "      <td>2523</td>\n",
       "      <td>Female</td>\n",
       "      <td>49.0</td>\n",
       "      <td>No upcoming birthday</td>\n",
       "      <td>U.S. national</td>\n",
       "      <td>Alive</td>\n",
       "      <td>Hold</td>\n",
       "      <td>39:24.3</td>\n",
       "    </tr>\n",
       "    <tr>\n",
       "      <th>648</th>\n",
       "      <td>Jennifer Aniston</td>\n",
       "      <td>649</td>\n",
       "      <td>5000</td>\n",
       "      <td>7000</td>\n",
       "      <td>1.400</td>\n",
       "      <td>1414000</td>\n",
       "      <td>282.800</td>\n",
       "      <td>1952</td>\n",
       "      <td>Female</td>\n",
       "      <td>51.0</td>\n",
       "      <td>No upcoming birthday</td>\n",
       "      <td>U.S. national</td>\n",
       "      <td>Alive</td>\n",
       "      <td>Hold</td>\n",
       "      <td>45:10.3</td>\n",
       "    </tr>\n",
       "  </tbody>\n",
       "</table>\n",
       "</div>"
      ],
      "text/plain": [
       "            Celebrity  Current Ranking  Current Price  Avg. 21-Day Price  \\\n",
       "590         Brad Pitt              591           5000              10000   \n",
       "386        Chris Rock              387           7000               2000   \n",
       "568        Jared Leto              569           6000               2000   \n",
       "517      Kevin Spacey              518           6000               1000   \n",
       "667         Spike Lee              668           4000               3000   \n",
       "653      Steve Harvey              654           4000               1000   \n",
       "626          R. Kelly              627           5000               3000   \n",
       "580       Mick Jagger              581           5000               1000   \n",
       "411       Amy Poehler              412           7000               1000   \n",
       "648  Jennifer Aniston              649           5000               7000   \n",
       "\n",
       "     Avg. 21-Day Price/Current Price  All-Time High Price  \\\n",
       "590                            2.000              4213000   \n",
       "386                            0.286              2820000   \n",
       "568                            0.333              2275000   \n",
       "517                            0.167              2245000   \n",
       "667                            0.750              1447000   \n",
       "653                            0.250              1446000   \n",
       "626                            0.600              1727000   \n",
       "580                            0.200              1663000   \n",
       "411                            0.143              2231000   \n",
       "648                            1.400              1414000   \n",
       "\n",
       "     All-Time High Price/Current Price  Days Since All-Time High Price  \\\n",
       "590                            842.600                            1541   \n",
       "386                            402.857                            1746   \n",
       "568                            379.167                            2474   \n",
       "517                            374.167                            1137   \n",
       "667                            361.750                             654   \n",
       "653                            361.500                            1816   \n",
       "626                            345.400                             645   \n",
       "580                            332.600                            2459   \n",
       "411                            318.714                            2523   \n",
       "648                            282.800                            1952   \n",
       "\n",
       "     Gender   Age     Upcoming Birthday U.S. Nationality Living Status  \\\n",
       "590    Male  56.0     Upcoming birthday    U.S. national         Alive   \n",
       "386    Male  55.0  No upcoming birthday    U.S. national         Alive   \n",
       "568    Male  48.0  No upcoming birthday    U.S. national         Alive   \n",
       "517    Male  61.0  No upcoming birthday    U.S. national         Alive   \n",
       "667    Male  63.0  No upcoming birthday    U.S. national         Alive   \n",
       "653    Male  63.0  No upcoming birthday    U.S. national         Alive   \n",
       "626    Male  53.0  No upcoming birthday    U.S. national         Alive   \n",
       "580    Male  77.0  No upcoming birthday  Foreign to U.S.         Alive   \n",
       "411  Female  49.0  No upcoming birthday    U.S. national         Alive   \n",
       "648  Female  51.0  No upcoming birthday    U.S. national         Alive   \n",
       "\n",
       "    Celebrity Bucks Recommendation Last Update  \n",
       "590                           Hold     43:47.5  \n",
       "386                           Hold     38:50.3  \n",
       "568                           Hold     43:16.0  \n",
       "517                           Hold     41:54.1  \n",
       "667                           Sell     45:38.4  \n",
       "653                           Hold     45:19.3  \n",
       "626                           Hold     44:39.6  \n",
       "580                           Hold     43:33.3  \n",
       "411                           Hold     39:24.3  \n",
       "648                           Hold     45:10.3  "
      ]
     },
     "execution_count": 48,
     "metadata": {},
     "output_type": "execute_result"
    }
   ],
   "source": [
    "df[df['Living Status'] == 'Alive'].sort_values(by='All-Time High Price/Current Price', ascending=False).head(10)"
   ]
  },
  {
   "cell_type": "markdown",
   "metadata": {},
   "source": [
    "Brad Pitt, whose value ranked 591st in the data set, had the lowest current price relative to his all-time high. R. Kelly, who ranked 626th, experienced his all-time high less than two years ago, suggesting he may still have the potential to rebound to previous price values."
   ]
  },
  {
   "cell_type": "markdown",
   "metadata": {},
   "source": [
    "Similarly, this data set can be used to filter and sort among any other sub-group of interest, such as gender, age group, U.S. nationality, or duration since all-time value. See [Pandas documentation](https://pandas.pydata.org/docs/user_guide/index.html) for tutorials on how to work with Pandas data frames. Alternatively, you may wish to interact with the `.csv` file by other means."
   ]
  },
  {
   "cell_type": "markdown",
   "metadata": {},
   "source": [
    "Finally, this data set may be usefully subjected to more advanced analyses, such as supervised machine learning. Users are encouraged to use this data set to train [scikit-learn](https://scikit-learn.org/stable/) predictive models that game players may apply to future data."
   ]
  },
  {
   "cell_type": "markdown",
   "metadata": {},
   "source": [
    "## Working with `create_celebrity_data_set.py` to Acquire New Data:"
   ]
  },
  {
   "cell_type": "markdown",
   "metadata": {},
   "source": [
    "`create_celebrity_data_set.py` can either be executed as a script to generate a new up-to-the-minute data set or it can be imported as a module, where its collection of functions will be availble to users who are interested in a more targeted analytical scope."
   ]
  },
  {
   "cell_type": "markdown",
   "metadata": {},
   "source": [
    "### Working with the script:"
   ]
  },
  {
   "cell_type": "markdown",
   "metadata": {},
   "source": [
    "Let's start by looking at how to execute the script from the command line to create a new, up-to-the-minute data set.\n",
    "\n",
    "If you have cloned this GitHub repository, simply navigate to the `./celebrity_bucks_game_player advantage/` directory and execute the `create_celebrity_data_set.py` script, as you would any other Python script. You should then see a message that says `API request is successful.`, followed by a statement indicating how many celebrities are currently returned by the Celebrity Bucks API. Subsequently, you will be notified every time the script collects information about ten additional celebrities, and once more to indicate when the script has executed successfully:"
   ]
  },
  {
   "attachments": {
    "image.png": {
     "image/png": "[encoded data removed]"
    }
   },
   "cell_type": "markdown",
   "metadata": {},
   "source": [
    "![image.png](attachment:image.png)"
   ]
  },
  {
   "cell_type": "markdown",
   "metadata": {},
   "source": [
    "..."
   ]
  },
  {
   "attachments": {
    "image-2.png": {
     "image/png": "[encoded data removed]"
    }
   },
   "cell_type": "markdown",
   "metadata": {},
   "source": [
    "![image-2.png](attachment:image-2.png)"
   ]
  },
  {
   "cell_type": "markdown",
   "metadata": {},
   "source": [
    "After the script finishes, navigate to the `./data/` folder, where you will find the newly created dataset identifiable by its publication time stamp in the file name:"
   ]
  },
  {
   "attachments": {},
   "cell_type": "markdown",
   "metadata": {},
   "source": [
    "![image-3](images/image_3.png)"
   ]
  },
  {
   "cell_type": "markdown",
   "metadata": {},
   "source": [
    "Voila! You're ready to begin your analysis!"
   ]
  },
  {
   "cell_type": "markdown",
   "metadata": {},
   "source": [
    "### Working with the module:"
   ]
  },
  {
   "cell_type": "markdown",
   "metadata": {},
   "source": [
    "Suppose you are not interested in compiling an entirely new data set but you still want to access the most current information about a single or a handful of celebrities. In this case, you may prefer to work with this package's functionality interactively. First, enter a Python interpretter from your preferred enviornment and import `create_celebrity_data_set` from `celebrity_bucks_game_player_advantage`. I like to name this `cb`:"
   ]
  },
  {
   "cell_type": "code",
   "execution_count": 1,
   "metadata": {},
   "outputs": [],
   "source": [
    "from celebrity_bucks_game_player_advantage import create_celebrity_data_set as cb"
   ]
  },
  {
   "cell_type": "markdown",
   "metadata": {},
   "source": [
    "Then, you'll want to declare a celebrity of interest. Simply assign the first and last name of the celebrity as a string to a `celebrity` object:"
   ]
  },
  {
   "cell_type": "code",
   "execution_count": 2,
   "metadata": {},
   "outputs": [],
   "source": [
    "celebrity = 'Jimmy Fallon'"
   ]
  },
  {
   "cell_type": "markdown",
   "metadata": {},
   "source": [
    "Next, you'll want to instantiate the Celebrity Bucks API object and two JSON objects, which collect and contain the current celebrity information. You will need to instantiate new `soup_cb` and `soup_as` objects (representing Celebrity Bucks and Astro-Seek data, respectively) for each celebrity you wish to explore, but you will only need to instantiate the `api_object` once per each session. When you instantiate the `api_object`, you will see a message indicating that the API call was successful, or not, if otherwise:"
   ]
  },
  {
   "cell_type": "code",
   "execution_count": 3,
   "metadata": {},
   "outputs": [
    {
     "name": "stdout",
     "output_type": "stream",
     "text": [
      "API request is successful.\n"
     ]
    }
   ],
   "source": [
    "api_object = cb.get_celebritybucks_api_object()"
   ]
  },
  {
   "cell_type": "code",
   "execution_count": 4,
   "metadata": {},
   "outputs": [],
   "source": [
    "soup_cb = cb.get_celebritybucks_soup_object(api_object,celebrity)\n",
    "soup_as = cb.get_astroseek_soup_object(celebrity)"
   ]
  },
  {
   "cell_type": "markdown",
   "metadata": {},
   "source": [
    "Next, you may wish to find just a single piece of information about the celebrity, such as whether their birthday is upcoming in the next week, their age, or their all-time high Celebrity Bucks value. Make sure to pass the appropriate soup object to each function in order to successfully retrieve the information:"
   ]
  },
  {
   "cell_type": "code",
   "execution_count": 5,
   "metadata": {},
   "outputs": [
    {
     "data": {
      "text/plain": [
       "'No upcoming birthday'"
      ]
     },
     "execution_count": 5,
     "metadata": {},
     "output_type": "execute_result"
    }
   ],
   "source": [
    "cb.upcoming_birthday(soup_as)"
   ]
  },
  {
   "cell_type": "code",
   "execution_count": 6,
   "metadata": {},
   "outputs": [
    {
     "data": {
      "text/plain": [
       "46"
      ]
     },
     "execution_count": 6,
     "metadata": {},
     "output_type": "execute_result"
    }
   ],
   "source": [
    "cb.get_age(soup_as)"
   ]
  },
  {
   "cell_type": "code",
   "execution_count": 7,
   "metadata": {},
   "outputs": [
    {
     "data": {
      "text/plain": [
       "1670000"
      ]
     },
     "execution_count": 7,
     "metadata": {},
     "output_type": "execute_result"
    }
   ],
   "source": [
    "cb.get_all_time_high_price(soup_cb)"
   ]
  },
  {
   "cell_type": "markdown",
   "metadata": {},
   "source": [
    "In order to determine which soup object is required in each function, see the \"Parameters\" section of the documentation available for any function in the package. For example:"
   ]
  },
  {
   "cell_type": "code",
   "execution_count": 8,
   "metadata": {},
   "outputs": [
    {
     "name": "stdout",
     "output_type": "stream",
     "text": [
      "Help on function get_cb_rec in module celebrity_bucks_game_player_advantage.create_celebrity_data_set:\n",
      "\n",
      "get_cb_rec(soup_object)\n",
      "    Returns the current Celebrity Bucks recommendation as to whether game players should buy, hold, or sell a given celebrity. Source: https://celebritybucks.com/celebrities/.\n",
      "    \n",
      "    Parameters\n",
      "    ----------\n",
      "      soup_object: bs4.BeautifulSoup\n",
      "        A BeautifulSoup object containing HTML from the Celebrity Bucks webpage corresponding to a given celebrity.\n",
      "      \n",
      "    Returns\n",
      "    -------\n",
      "    str\n",
      "       The current Celebrity Bucks recommended action with regard to the celebrity\n",
      "    \n",
      "    Examples\n",
      "    --------\n",
      "    >>> get_cb_rec(soup_tom_hanks)\n",
      "    'Buy'\n",
      "    >>> get_cb_rec(soup_gwyneth_paltrow)\n",
      "    'Hold'\n",
      "    >>> get_cb_rec(soup_miley_cyrus)\n",
      "    'Sell'\n",
      "\n"
     ]
    }
   ],
   "source": [
    "help(cb.get_cb_rec)"
   ]
  },
  {
   "cell_type": "markdown",
   "metadata": {},
   "source": [
    "Finally, you may wish to accumulate and display all up-to-the-minute data for a given celebrity, formatted identically to one row in the data set introduced earlier. This can be accomplished in a single additional step, provided the celebrity object, API object, and soup objects have already been instantiated:"
   ]
  },
  {
   "cell_type": "code",
   "execution_count": 9,
   "metadata": {},
   "outputs": [
    {
     "data": {
      "text/html": [
       "<div>\n",
       "<style scoped>\n",
       "    .dataframe tbody tr th:only-of-type {\n",
       "        vertical-align: middle;\n",
       "    }\n",
       "\n",
       "    .dataframe tbody tr th {\n",
       "        vertical-align: top;\n",
       "    }\n",
       "\n",
       "    .dataframe thead th {\n",
       "        text-align: right;\n",
       "    }\n",
       "</style>\n",
       "<table border=\"1\" class=\"dataframe\">\n",
       "  <thead>\n",
       "    <tr style=\"text-align: right;\">\n",
       "      <th></th>\n",
       "      <th>Celebrity</th>\n",
       "      <th>Current Ranking</th>\n",
       "      <th>Current Price</th>\n",
       "      <th>Avg. 21-Day Price</th>\n",
       "      <th>Avg. 21-Day Price/Current Price</th>\n",
       "      <th>All-Time High Price</th>\n",
       "      <th>All-Time High Price/Current Price</th>\n",
       "      <th>Days Since All-Time High Price</th>\n",
       "      <th>Gender</th>\n",
       "      <th>Age</th>\n",
       "      <th>Upcoming Birthday</th>\n",
       "      <th>U.S. Nationality</th>\n",
       "      <th>Living Status</th>\n",
       "      <th>Celebrity Bucks Recommendation</th>\n",
       "      <th>Last Update</th>\n",
       "    </tr>\n",
       "  </thead>\n",
       "  <tbody>\n",
       "    <tr>\n",
       "      <th>0</th>\n",
       "      <td>Jimmy Fallon</td>\n",
       "      <td>29</td>\n",
       "      <td>65000</td>\n",
       "      <td>15000</td>\n",
       "      <td>0.231</td>\n",
       "      <td>1670000</td>\n",
       "      <td>25.692</td>\n",
       "      <td>2491</td>\n",
       "      <td>Male</td>\n",
       "      <td>46</td>\n",
       "      <td>No upcoming birthday</td>\n",
       "      <td>U.S. national</td>\n",
       "      <td>Alive</td>\n",
       "      <td>Buy</td>\n",
       "      <td>2020-12-15 16:27:37.637557</td>\n",
       "    </tr>\n",
       "  </tbody>\n",
       "</table>\n",
       "</div>"
      ],
      "text/plain": [
       "      Celebrity Current Ranking Current Price Avg. 21-Day Price  \\\n",
       "0  Jimmy Fallon              29         65000             15000   \n",
       "\n",
       "   Avg. 21-Day Price/Current Price All-Time High Price  \\\n",
       "0                            0.231             1670000   \n",
       "\n",
       "   All-Time High Price/Current Price Days Since All-Time High Price Gender  \\\n",
       "0                             25.692                           2491   Male   \n",
       "\n",
       "  Age     Upcoming Birthday U.S. Nationality Living Status  \\\n",
       "0  46  No upcoming birthday    U.S. national         Alive   \n",
       "\n",
       "  Celebrity Bucks Recommendation                Last Update  \n",
       "0                            Buy 2020-12-15 16:27:37.637557  "
      ]
     },
     "execution_count": 9,
     "metadata": {},
     "output_type": "execute_result"
    }
   ],
   "source": [
    "cb.get_celeb_data(api_object, soup_cb, soup_as, celebrity)"
   ]
  }
 ],
 "metadata": {
  "kernelspec": {
   "display_name": "Python 3",
   "language": "python",
   "name": "python3"
  },
  "language_info": {
   "codemirror_mode": {
    "name": "ipython",
    "version": 3
   },
   "file_extension": ".py",
   "mimetype": "text/x-python",
   "name": "python",
   "nbconvert_exporter": "python",
   "pygments_lexer": "ipython3",
   "version": "3.8.5"
  }
 },
 "nbformat": 4,
 "nbformat_minor": 4
}
